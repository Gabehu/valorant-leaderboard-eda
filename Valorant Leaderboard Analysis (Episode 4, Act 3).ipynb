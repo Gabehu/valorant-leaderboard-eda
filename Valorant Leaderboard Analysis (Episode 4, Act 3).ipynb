{
 "cells": [
  {
   "cell_type": "markdown",
   "id": "50ee862d",
   "metadata": {},
   "source": [
    "# EDA: Valorant Leaderboard Analysis (Episode 4, Act 3)"
   ]
  },
  {
   "cell_type": "code",
   "execution_count": 46,
   "id": "17a54ec9",
   "metadata": {},
   "outputs": [],
   "source": [
    "#import pandas and other important libraries\n",
    "import pandas as pd\n",
    "import matplotlib.pyplot as plt\n",
    "import seaborn as sns\n",
    "import warnings\n",
    "\n",
    "warnings.filterwarnings(\"ignore\")"
   ]
  },
  {
   "cell_type": "code",
   "execution_count": 47,
   "id": "bc55f8ad",
   "metadata": {},
   "outputs": [
    {
     "name": "stdout",
     "output_type": "stream",
     "text": [
      "<class 'pandas.core.frame.DataFrame'>\n",
      "RangeIndex: 85678 entries, 0 to 85677\n",
      "Data columns (total 38 columns):\n",
      " #   Column            Non-Null Count  Dtype  \n",
      "---  ------            --------------  -----  \n",
      " 0   region            64813 non-null  object \n",
      " 1   name              85675 non-null  object \n",
      " 2   tag               85358 non-null  object \n",
      " 3   rating            85678 non-null  object \n",
      " 4   damage_round      85678 non-null  float64\n",
      " 5   headshots         85678 non-null  object \n",
      " 6   headshot_percent  85678 non-null  float64\n",
      " 7   aces              85678 non-null  int64  \n",
      " 8   clutches          85678 non-null  int64  \n",
      " 9   flawless          85678 non-null  int64  \n",
      " 10  first_bloods      85678 non-null  object \n",
      " 11  kills             85678 non-null  object \n",
      " 12  deaths            85678 non-null  object \n",
      " 13  assists           85678 non-null  object \n",
      " 14  kd_ratio          85678 non-null  float64\n",
      " 15  kills_round       85678 non-null  float64\n",
      " 16  most_kills        85678 non-null  int64  \n",
      " 17  score_round       85678 non-null  float64\n",
      " 18  wins              85678 non-null  int64  \n",
      " 19  win_percent       85678 non-null  float64\n",
      " 20  agent_1           85678 non-null  object \n",
      " 21  agent_2           83691 non-null  object \n",
      " 22  agent_3           80461 non-null  object \n",
      " 23  gun1_name         85678 non-null  object \n",
      " 24  gun1_head         85678 non-null  int64  \n",
      " 25  gun1_body         85678 non-null  int64  \n",
      " 26  gun1_legs         85678 non-null  int64  \n",
      " 27  gun1_kills        85678 non-null  object \n",
      " 28  gun2_name         85678 non-null  object \n",
      " 29  gun2_head         85678 non-null  int64  \n",
      " 30  gun2_body         85678 non-null  int64  \n",
      " 31  gun2_legs         85678 non-null  int64  \n",
      " 32  gun2_kills        85678 non-null  object \n",
      " 33  gun3_name         85678 non-null  object \n",
      " 34  gun3_head         85678 non-null  int64  \n",
      " 35  gun3_body         85678 non-null  int64  \n",
      " 36  gun3_legs         85678 non-null  int64  \n",
      " 37  gun3_kills        85678 non-null  int64  \n",
      "dtypes: float64(6), int64(15), object(17)\n",
      "memory usage: 24.8+ MB\n"
     ]
    }
   ],
   "source": [
    "#read in all input data\n",
    "try:\n",
    "    df = pd.read_csv('val_stats.csv')\n",
    "except:\n",
    "    df = pd.read_csv('/datasets/val_stats.csv')\n",
    "    \n",
    "#looking at data, checking info to see what needs to be changed\n",
    "df.info()\n",
    "#df.head(15)"
   ]
  },
  {
   "cell_type": "markdown",
   "id": "7342c63f",
   "metadata": {},
   "source": [
    "### Conclusion\n",
    "\n",
    "There are some different types, such as headshots, first_bloods, kills, deaths, assists, gun1_kills, and gun2_kills, being an object, rather than a float or int "
   ]
  },
  {
   "cell_type": "markdown",
   "id": "ab753d09",
   "metadata": {},
   "source": [
    "## Data Preprocessing\n",
    "* Importing the data\n",
    "* Changing tdatatypes in general\n",
    "* Checking for duplicates and missing values and taking action if necessary"
   ]
  },
  {
   "cell_type": "code",
   "execution_count": 48,
   "id": "d0c7d7ed",
   "metadata": {},
   "outputs": [
    {
     "name": "stdout",
     "output_type": "stream",
     "text": [
      "\n",
      "Number of missing values found: \n",
      " region              20865\n",
      "name                    3\n",
      "tag                   320\n",
      "rating                  0\n",
      "damage_round            0\n",
      "headshots               0\n",
      "headshot_percent        0\n",
      "aces                    0\n",
      "clutches                0\n",
      "flawless                0\n",
      "first_bloods            0\n",
      "kills                   0\n",
      "deaths                  0\n",
      "assists                 0\n",
      "kd_ratio                0\n",
      "kills_round             0\n",
      "most_kills              0\n",
      "score_round             0\n",
      "wins                    0\n",
      "win_percent             0\n",
      "agent_1                 0\n",
      "agent_2              1987\n",
      "agent_3              5217\n",
      "gun1_name               0\n",
      "gun1_head               0\n",
      "gun1_body               0\n",
      "gun1_legs               0\n",
      "gun1_kills              0\n",
      "gun2_name               0\n",
      "gun2_head               0\n",
      "gun2_body               0\n",
      "gun2_legs               0\n",
      "gun2_kills              0\n",
      "gun3_name               0\n",
      "gun3_head               0\n",
      "gun3_body               0\n",
      "gun3_legs               0\n",
      "gun3_kills              0\n",
      "dtype: int64\n",
      "\n",
      "Number of duplicates found:  968\n",
      "\n",
      "Number of duplicates found:  0\n"
     ]
    }
   ],
   "source": [
    "#2 Data preprocessing\n",
    "\n",
    "# Listing missing values\n",
    "print('\\nNumber of missing values found: \\n',df.isna().sum())\n",
    "\n",
    "# We have missing under 'region', name', 'tag', 'agent_2', 'agent_3'\n",
    "\n",
    "# Checking to see how many duplicates we have\n",
    "print('\\nNumber of duplicates found: ', df.duplicated().sum())\n",
    "df.drop_duplicates(inplace=True)\n",
    "print('\\nNumber of duplicates found: ', df.duplicated().sum())\n",
    "\n",
    "# We have 968 duplicated cleaned"
   ]
  },
  {
   "cell_type": "code",
   "execution_count": 57,
   "id": "c16f4e41",
   "metadata": {},
   "outputs": [
    {
     "data": {
      "text/html": [
       "<div>\n",
       "<style scoped>\n",
       "    .dataframe tbody tr th:only-of-type {\n",
       "        vertical-align: middle;\n",
       "    }\n",
       "\n",
       "    .dataframe tbody tr th {\n",
       "        vertical-align: top;\n",
       "    }\n",
       "\n",
       "    .dataframe thead th {\n",
       "        text-align: right;\n",
       "    }\n",
       "</style>\n",
       "<table border=\"1\" class=\"dataframe\">\n",
       "  <thead>\n",
       "    <tr style=\"text-align: right;\">\n",
       "      <th></th>\n",
       "      <th>region</th>\n",
       "      <th>name</th>\n",
       "      <th>tag</th>\n",
       "      <th>rating</th>\n",
       "      <th>damage_round</th>\n",
       "      <th>headshots</th>\n",
       "      <th>headshot_percent</th>\n",
       "      <th>aces</th>\n",
       "      <th>clutches</th>\n",
       "      <th>flawless</th>\n",
       "      <th>...</th>\n",
       "      <th>gun2_name</th>\n",
       "      <th>gun2_head</th>\n",
       "      <th>gun2_body</th>\n",
       "      <th>gun2_legs</th>\n",
       "      <th>gun2_kills</th>\n",
       "      <th>gun3_name</th>\n",
       "      <th>gun3_head</th>\n",
       "      <th>gun3_body</th>\n",
       "      <th>gun3_legs</th>\n",
       "      <th>gun3_kills</th>\n",
       "    </tr>\n",
       "  </thead>\n",
       "  <tbody>\n",
       "  </tbody>\n",
       "</table>\n",
       "<p>0 rows × 38 columns</p>\n",
       "</div>"
      ],
      "text/plain": [
       "Empty DataFrame\n",
       "Columns: [region, name, tag, rating, damage_round, headshots, headshot_percent, aces, clutches, flawless, first_bloods, kills, deaths, assists, kd_ratio, kills_round, most_kills, score_round, wins, win_percent, agent_1, agent_2, agent_3, gun1_name, gun1_head, gun1_body, gun1_legs, gun1_kills, gun2_name, gun2_head, gun2_body, gun2_legs, gun2_kills, gun3_name, gun3_head, gun3_body, gun3_legs, gun3_kills]\n",
       "Index: []\n",
       "\n",
       "[0 rows x 38 columns]"
      ]
     },
     "execution_count": 57,
     "metadata": {},
     "output_type": "execute_result"
    }
   ],
   "source": [
    "# Let's check the columns that are missing\n",
    "#missing_col = ['region', 'name', 'tag', 'agent_2', 'agent_3']\n",
    "na_tags = df[df['tag'].isna()]\n",
    "na_tags\n",
    "\n",
    "# Initialize the new columns to avoid key mismatch later\n",
    "df['name_cleaned'] = df['name']\n",
    "df['tag_extracted'] = pd.NA\n",
    "\n",
    "# Only perfform split on rows where name is not null and contains '#'\n",
    "mask = df['name'].notna() & df['name'].str.contains('#')\n",
    "\n",
    "# Fixing the name and tag split. Since many players have their name+tag combined like username#tag, let's separate them.\n",
    "df.loc[mask, ['name_cleaned', 'tag_extracted']] = df.loc[mask, 'name'].str.split('#', n=1, expand=True)\n",
    "\n",
    "# Show only rows where tag is NaN but tag_extracted was filled from name\n",
    "check_split_effectiveness = df[df['tag'].isna() & df['tag_extracted'].notna()][['name', 'tag', 'tag_extracted']]\n",
    "check_split_effectiveness.head(10)\n",
    "\n",
    "# Clean tag\n",
    "df.loc[df['tag'].isna(), 'tag'] = df['tag_extracted']\n",
    "\n",
    "# Fix names if they had a tag embedded\n",
    "df.loc[df['tag_extracted'].notna(), 'name'] = df['name_cleaned']\n",
    "\n",
    "# Dropping temperary columns\n",
    "df.drop(columns=['name_cleaned', 'tag_extracted'], inplace=True)\n",
    "\n",
    "# Dropping leftover rows where tag or name are still missing\n",
    "df.dropna(subset=['name', 'tag'], inplace = True)\n",
    "\n",
    "# Confirming\n",
    "na_tags"
   ]
  },
  {
   "cell_type": "code",
   "execution_count": 58,
   "id": "473c747d",
   "metadata": {},
   "outputs": [
    {
     "data": {
      "text/plain": [
       "EU     32279\n",
       "NA     20772\n",
       "AP     19166\n",
       "BR      6928\n",
       "LAT     3270\n",
       "KR      2292\n",
       "Name: region, dtype: int64"
      ]
     },
     "execution_count": 58,
     "metadata": {},
     "output_type": "execute_result"
    }
   ],
   "source": [
    "na_region = df[df['region'].isna()]\n",
    "na_region\n",
    "\n",
    "# Fill NaN with 'NA' if we assume these were misninterpreted as missing\n",
    "df['region'] = df['region'].fillna('NA')\n",
    "\n",
    "df['region'].value_counts(dropna=False)"
   ]
  },
  {
   "cell_type": "code",
   "execution_count": 59,
   "id": "acc66dc7",
   "metadata": {},
   "outputs": [
    {
     "name": "stdout",
     "output_type": "stream",
     "text": [
      "<class 'pandas.core.frame.DataFrame'>\n",
      "Int64Index: 84707 entries, 0 to 85677\n",
      "Data columns (total 38 columns):\n",
      " #   Column            Non-Null Count  Dtype  \n",
      "---  ------            --------------  -----  \n",
      " 0   region            84707 non-null  object \n",
      " 1   name              84707 non-null  object \n",
      " 2   tag               84707 non-null  object \n",
      " 3   rating            84707 non-null  object \n",
      " 4   damage_round      84707 non-null  float64\n",
      " 5   headshots         84707 non-null  int64  \n",
      " 6   headshot_percent  84707 non-null  float64\n",
      " 7   aces              84707 non-null  int64  \n",
      " 8   clutches          84707 non-null  int64  \n",
      " 9   flawless          84707 non-null  int64  \n",
      " 10  first_bloods      84707 non-null  int64  \n",
      " 11  kills             84707 non-null  int64  \n",
      " 12  deaths            84707 non-null  int64  \n",
      " 13  assists           84707 non-null  int64  \n",
      " 14  kd_ratio          84707 non-null  float64\n",
      " 15  kills_round       84707 non-null  float64\n",
      " 16  most_kills        84707 non-null  int64  \n",
      " 17  score_round       84707 non-null  float64\n",
      " 18  wins              84707 non-null  int64  \n",
      " 19  win_percent       84707 non-null  float64\n",
      " 20  agent_1           84707 non-null  object \n",
      " 21  agent_2           82739 non-null  object \n",
      " 22  agent_3           79544 non-null  object \n",
      " 23  gun1_name         84707 non-null  object \n",
      " 24  gun1_head         84707 non-null  int64  \n",
      " 25  gun1_body         84707 non-null  int64  \n",
      " 26  gun1_legs         84707 non-null  int64  \n",
      " 27  gun1_kills        84707 non-null  int64  \n",
      " 28  gun2_name         84707 non-null  object \n",
      " 29  gun2_head         84707 non-null  int64  \n",
      " 30  gun2_body         84707 non-null  int64  \n",
      " 31  gun2_legs         84707 non-null  int64  \n",
      " 32  gun2_kills        84707 non-null  int64  \n",
      " 33  gun3_name         84707 non-null  object \n",
      " 34  gun3_head         84707 non-null  int64  \n",
      " 35  gun3_body         84707 non-null  int64  \n",
      " 36  gun3_legs         84707 non-null  int64  \n",
      " 37  gun3_kills        84707 non-null  int64  \n",
      "dtypes: float64(6), int64(22), object(10)\n",
      "memory usage: 25.2+ MB\n"
     ]
    }
   ],
   "source": [
    "# Columns to convert from object to int.\n",
    "to_int = ['headshots', 'first_bloods', 'kills', 'deaths', 'assists', 'gun1_kills', 'gun2_kills']\n",
    "for col in to_int:\n",
    "    df[col] = pd.to_numeric(df[col].astype(str).str.replace(',', ''), errors='coerce').astype('int64')\n",
    "\n",
    "df.info()\n",
    "\n",
    "# Confirm it works:\n",
    "#df[to_int].dtypes\n",
    "\n",
    "# Check for failed conversions\n",
    "#df[to_int].isna().sum()"
   ]
  },
  {
   "cell_type": "code",
   "execution_count": 61,
   "id": "de920230",
   "metadata": {},
   "outputs": [
    {
     "name": "stdout",
     "output_type": "stream",
     "text": [
      "\n",
      "Number of missing values found: \n",
      " region              0\n",
      "name                0\n",
      "tag                 0\n",
      "rating              0\n",
      "damage_round        0\n",
      "headshots           0\n",
      "headshot_percent    0\n",
      "aces                0\n",
      "clutches            0\n",
      "flawless            0\n",
      "first_bloods        0\n",
      "kills               0\n",
      "deaths              0\n",
      "assists             0\n",
      "kd_ratio            0\n",
      "kills_round         0\n",
      "most_kills          0\n",
      "score_round         0\n",
      "wins                0\n",
      "win_percent         0\n",
      "agent_1             0\n",
      "agent_2             0\n",
      "agent_3             0\n",
      "gun1_name           0\n",
      "gun1_head           0\n",
      "gun1_body           0\n",
      "gun1_legs           0\n",
      "gun1_kills          0\n",
      "gun2_name           0\n",
      "gun2_head           0\n",
      "gun2_body           0\n",
      "gun2_legs           0\n",
      "gun2_kills          0\n",
      "gun3_name           0\n",
      "gun3_head           0\n",
      "gun3_body           0\n",
      "gun3_legs           0\n",
      "gun3_kills          0\n",
      "dtype: int64\n"
     ]
    }
   ],
   "source": [
    "# Keeping agent_2 and agent_3 but filling missing values with \"None\"\n",
    "\n",
    "df['agent_2'] = df['agent_2'].fillna('None')\n",
    "df['agent_3'] = df['agent_3'].fillna('None')\n",
    "\n",
    "# Listing missing values\n",
    "print('\\nNumber of missing values found: \\n',df.isna().sum())"
   ]
  },
  {
   "cell_type": "markdown",
   "id": "f7b5acea",
   "metadata": {},
   "source": [
    "### Data Preprocessing Conclusion\n",
    "\n",
    "The dataset has been successfully cleaned and preprocessed for analysis. The following key actions were taken:\n",
    "\n",
    "* Duplicates Removed: 968 duplicate rows were identified and dropped.\n",
    "* Name/Tag Fixes: Several entries had their player name and tag improperly combined (e.g., Player#NA1). These were separated correctly, and the missing tag values were recovered from the original name field.\n",
    "* Missing region fix: The NA (North America) region was incorrectly interpreted as a missing value. These entries were restored and standardized to ensure no regional bias or loss.\n",
    "* Type Conversion: Important numerical columns like headshots, kills, deaths, etc., were originally stored as objects. These were cleaned and converted into appropriate int64 or float64 types for analysis.\n",
    "* Agent Slots Handling: Some players only played one or two agents throughout the act. Instead of dropping these rows, we retained all agent columns (agent_1, agent_2, agent_3) and filling missing agent slots with 'None' to reflect intentional one-tricks or limited agent pools."
   ]
  },
  {
   "cell_type": "markdown",
   "id": "c3c9daf7",
   "metadata": {},
   "source": [
    "## EDA\n",
    "\n",
    "We will now begin the EDA phase starting with:\n",
    "* Identifying the most commonly played agents among high-ranked players (e.g., Radiant & Immortal)\n",
    "* Analying regional rating distributions\n",
    "* Investigating relationships between performance metrics (e.g., winrate, rating, KDA)"
   ]
  },
  {
   "cell_type": "code",
   "execution_count": 72,
   "id": "5c3557a2",
   "metadata": {},
   "outputs": [
    {
     "data": {
      "text/plain": [
       "Chamber      19286\n",
       "Jett         11821\n",
       "Reyna        11060\n",
       "Raze          5949\n",
       "Omen          5836\n",
       "Sova          5744\n",
       "Fade          5350\n",
       "Sage          5099\n",
       "Viper         3521\n",
       "Brimstone     3365\n",
       "KAY/O         1926\n",
       "Skye          1752\n",
       "Neon          1069\n",
       "Killjoy        616\n",
       "Breach         591\n",
       "Yoru           573\n",
       "Cypher         459\n",
       "Astra          458\n",
       "Phoenix        135\n",
       "Name: agent_1, dtype: int64"
      ]
     },
     "execution_count": 72,
     "metadata": {},
     "output_type": "execute_result"
    }
   ],
   "source": [
    "# Finding the rating distribution\n",
    "df['rating'].value_counts()\n",
    "\n",
    "# Focusing on high ranks only\n",
    "high_ranks = ['Radiant', 'Immortal 3', 'Immortal 2', 'Immortal 1']\n",
    "df_high = df[df['rating'].isin(high_ranks)]\n",
    "\n",
    "# Finding the most commonly played agents among high-ranked players\n",
    "agent_counts = df_high['agent_1'].value_counts()\n",
    "agent_counts"
   ]
  },
  {
   "cell_type": "code",
   "execution_count": 76,
   "id": "8d8e3b6d",
   "metadata": {},
   "outputs": [
    {
     "data": {
      "image/png": "[encoded data removed]",
      "text/plain": [
       "<Figure size 576x360 with 1 Axes>"
      ]
     },
     "metadata": {
      "needs_background": "light"
     },
     "output_type": "display_data"
    }
   ],
   "source": [
    "# Count top agents across Radiant/Immortal\n",
    "plt.figure(figsize=(8,5))\n",
    "sns.barplot(x=agent_counts.values, y = agent_counts.index)\n",
    "plt.title(\"Most Common Agents Among High-Ranked Players\")\n",
    "plt.xlabel(\"Count\")\n",
    "plt.ylabel(\"Agent\")\n",
    "plt.show()"
   ]
  },
  {
   "cell_type": "code",
   "execution_count": 81,
   "id": "165ba703",
   "metadata": {},
   "outputs": [
    {
     "data": {
      "text/plain": [
       "agent_1\n",
       "Reyna      54.175677\n",
       "Chamber    53.688659\n",
       "Jett       53.163216\n",
       "Name: win_percent, dtype: float64"
      ]
     },
     "execution_count": 81,
     "metadata": {},
     "output_type": "execute_result"
    }
   ],
   "source": [
    "df.groupby('agent_1')['win_percent'].mean().sort_values(ascending=False)\n",
    "\n",
    "# Sorting by agents with more then 10,000 selections\n",
    "agent_counts = df['agent_1'].value_counts()\n",
    "valid_agents = agent_counts[agent_counts > 10000].index\n",
    "df_filtered = df[df['agent_1'].isin(valid_agents)]\n",
    "\n",
    "# Filtering agent_1 by win percentage mean\n",
    "df_filtered.groupby('agent_1')['win_percent'].mean().sort_values(ascending=False)"
   ]
  },
  {
   "cell_type": "code",
   "execution_count": 88,
   "id": "57ca1bc0",
   "metadata": {},
   "outputs": [
    {
     "data": {
      "image/png": "[encoded data removed]",
      "text/plain": [
       "<Figure size 720x360 with 1 Axes>"
      ]
     },
     "metadata": {
      "needs_background": "light"
     },
     "output_type": "display_data"
    }
   ],
   "source": [
    "# Strip ratings into ordered categories\n",
    "from pandas.api.types import CategoricalDtype\n",
    "\n",
    "rating_order = ['Immortal 1','Immortal 2','Immortal 3','Radiant']\n",
    "\n",
    "rating_cat = CategoricalDtype(categories=rating_order, ordered=True)\n",
    "df['rating_cat'] = df['rating'].astype(rating_cat)\n",
    "\n",
    "# Average win% by rating tier\n",
    "df.groupby('rating_cat')['win_percent'].mean().plot(kind='line', marker='o', figsize=(10, 5))\n",
    "plt.title('Average Win% by Rating Tier')\n",
    "plt.ylabel('Win %')\n",
    "plt.xlabel('Top Ratings')\n",
    "plt.xticks(rotation=45)\n",
    "plt.grid(True)\n",
    "plt.show()"
   ]
  },
  {
   "cell_type": "markdown",
   "id": "5f4ff252",
   "metadata": {},
   "source": [
    "#### Conclusion\n",
    "\n",
    "Due to uneven sample sizes across ranks, especially outside Immortal and Radiant, the win percentage data should be interpreted cautiously."
   ]
  },
  {
   "cell_type": "code",
   "execution_count": 86,
   "id": "f98fa6db",
   "metadata": {},
   "outputs": [
    {
     "data": {
      "text/plain": [
       "EU     32279\n",
       "NA     20772\n",
       "AP     19166\n",
       "BR      6928\n",
       "LAT     3270\n",
       "KR      2292\n",
       "Name: region, dtype: int64"
      ]
     },
     "execution_count": 86,
     "metadata": {},
     "output_type": "execute_result"
    }
   ],
   "source": [
    "# Checking overall number of players per region to determine what regions should be filtered.\n",
    "df['region'].value_counts(dropna=False)"
   ]
  },
  {
   "cell_type": "code",
   "execution_count": 87,
   "id": "55dcc82e",
   "metadata": {},
   "outputs": [
    {
     "data": {
      "text/plain": [
       "region\n",
       "NA    16.582948\n",
       "AP    16.575074\n",
       "EU    16.528907\n",
       "Name: rating_score, dtype: float64"
      ]
     },
     "execution_count": 87,
     "metadata": {},
     "output_type": "execute_result"
    }
   ],
   "source": [
    "# Filtering regions by those with more than 10,000 players\n",
    "region_counts = df['region'].value_counts()\n",
    "valid_region = region_counts[region_counts > 10000].index\n",
    "df_filtered_region = df[df['region'].isin(valid_region)]\n",
    "\n",
    "# Noting an artificial rating to tally scoring\n",
    "rating_order = {\n",
    "    'Bronze 1': 1, 'Bronze 2': 2, 'Bronze 3': 3,\n",
    "    'Silver 1': 4, 'Silver 2': 5, 'Silver 3': 6,\n",
    "    'Gold 1': 7, 'Gold 2': 8, 'Gold 3': 9,\n",
    "    'Platinum 1': 10, 'Platinum 2': 11, 'Platinum 3': 12,\n",
    "    'Diamond 1': 13, 'Diamond 2': 14, 'Diamond 3': 15,\n",
    "    'Immortal 1': 16, 'Immortal 2': 17, 'Immortal 3': 18,\n",
    "    'Radiant': 19\n",
    "}\n",
    "df_filtered_region['rating_score'] = df_filtered_region['rating'].map(rating_order)\n",
    "\n",
    "# Drop NAs in rating_score\n",
    "df_region = df_filtered_region[df_filtered_region['rating_score'].notna()]\n",
    "\n",
    "# Average rating per region\n",
    "df_region.groupby('region')['rating_score'].mean().sort_values(ascending=False)\n"
   ]
  },
  {
   "cell_type": "markdown",
   "id": "e0e4c118",
   "metadata": {},
   "source": [
    "### EDA Conclusion\n",
    "\n",
    "Throughout this exploratory analysis, we uncovered several patterns and limitations within the dataset:\n",
    "\n",
    "* Agent Popularity: Chamber, Jett, and Reyna emerged as the most common agent picks among Immortal and Radiant players. This reflects current meta trends and highlights agent preferences at higher skill levels.\n",
    "* Agent Win Rates: While we attempted to analyze win rate per agent, small sample sizes for some agents introduced bias. To reduce skew, we filtered by agents with over 1,000 picks—but even this can’t account for differences in map usage, team comp, or playstyle. We chose not to use win rate as a definitive ranking metric due to these limitations.\n",
    "* Rating vs Win %: When analyzing win rates by rank, we noticed sharp outliers in lower tiers (e.g., Bronze, Silver). These were the result of extremely limited samples. Restricting the analysis to high ranks (Immortal 1+) produced a more stable view of performance distribution.\n",
    "* Region vs Average Rank: Regional comparisons revealed that LAT and KR appeared to have higher average ratings, but this is largely due to smaller sample sizes skewing the mean. After filtering for regions with >10,000 players, NA and AP were more reliably comparable, though EU remained dominant in volume, slightly reducing interpretability."
   ]
  },
  {
   "cell_type": "markdown",
   "id": "fad944da",
   "metadata": {},
   "source": [
    "### Limitations\n",
    "* No access to exact MMR or RR scores, limiting the accuracy of true top-500 identification.\n",
    "* Sample size imbalance across ranks and regions creates uneven interpretability.\n",
    "* Some data appears misclassified (e.g., Unrated or Bronze players), likely due to incomplete scraping or submission errors."
   ]
  },
  {
   "cell_type": "markdown",
   "id": "10ee6516",
   "metadata": {},
   "source": [
    "### What Worked Well\n",
    "* Data cleaning resolved major formatting issues (e.g., name#tag separation, NA misclassification).\n",
    "* Agent popularity analysis and regional summaries were robust after filtering outliers.\n",
    "* Clear insights emerged from focusing only on high-rank players and well-represented regions."
   ]
  }
 ],
 "metadata": {
  "kernelspec": {
   "display_name": "Python 3 (ipykernel)",
   "language": "python",
   "name": "python3"
  },
  "language_info": {
   "codemirror_mode": {
    "name": "ipython",
    "version": 3
   },
   "file_extension": ".py",
   "mimetype": "text/x-python",
   "name": "python",
   "nbconvert_exporter": "python",
   "pygments_lexer": "ipython3",
   "version": "3.9.7"
  }
 },
 "nbformat": 4,
 "nbformat_minor": 5
}
